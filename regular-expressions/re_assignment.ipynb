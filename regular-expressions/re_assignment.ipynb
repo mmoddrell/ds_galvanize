{
 "cells": [
  {
   "cell_type": "code",
   "execution_count": 2,
   "metadata": {
    "collapsed": true
   },
   "outputs": [],
   "source": [
    "import re"
   ]
  },
  {
   "cell_type": "markdown",
   "metadata": {},
   "source": [
    "## Part I - Basic Regular Expression Syntax"
   ]
  },
  {
   "cell_type": "code",
   "execution_count": 2,
   "metadata": {
    "collapsed": true
   },
   "outputs": [],
   "source": [
    "s = \"Today you are you! That is truer than true! \"\n",
    "s += \"There is no one alive who is you-er than you! (Quote 42)\""
   ]
  },
  {
   "cell_type": "code",
   "execution_count": 15,
   "metadata": {},
   "outputs": [
    {
     "name": "stdout",
     "output_type": "stream",
     "text": [
      "['T', 'T', 'T', 'Q']\n"
     ]
    }
   ],
   "source": [
    "## match all upper case letters\n",
    "m = re.findall(r'[A-Z]', s)\n",
    "print(m)\n",
    "# print(m.group())"
   ]
  },
  {
   "cell_type": "code",
   "execution_count": 17,
   "metadata": {},
   "outputs": [
    {
     "name": "stdout",
     "output_type": "stream",
     "text": [
      "['T', 'T', 'T']\n"
     ]
    }
   ],
   "source": [
    "## match All of the 'T's\n",
    "m = re.findall(r'[T]', s)\n",
    "print(m)"
   ]
  },
  {
   "cell_type": "code",
   "execution_count": 18,
   "metadata": {},
   "outputs": [
    {
     "name": "stdout",
     "output_type": "stream",
     "text": [
      "['4', '2']\n"
     ]
    }
   ],
   "source": [
    "## match only the numbers\n",
    "m = re.findall(r'[0-9]', s)\n",
    "print(m)"
   ]
  },
  {
   "cell_type": "code",
   "execution_count": 29,
   "metadata": {},
   "outputs": [
    {
     "name": "stdout",
     "output_type": "stream",
     "text": [
      "['Today', 'you', 'are', 'you', 'That', 'is', 'truer', 'than', 'true', 'There', 'is', 'no', 'one', 'alive', 'who', 'is', 'you', 'er', 'than', 'you', 'Quote']\n"
     ]
    }
   ],
   "source": [
    "## match any word characters\n",
    "print(re.findall('[A-Za-z]+', s))"
   ]
  },
  {
   "cell_type": "code",
   "execution_count": 33,
   "metadata": {},
   "outputs": [
    {
     "name": "stdout",
     "output_type": "stream",
     "text": [
      "[' ', ' ', ' ', '! ', ' ', ' ', ' ', ' ', '! ', ' ', ' ', ' ', ' ', ' ', ' ', ' ', '-', ' ', ' ', '! (', ' ', ')']\n"
     ]
    }
   ],
   "source": [
    "## match any non-word characters\n",
    "print(re.findall('\\W+', s))"
   ]
  },
  {
   "cell_type": "markdown",
   "metadata": {},
   "source": [
    "## Part II - Using regular expression special characters"
   ]
  },
  {
   "cell_type": "code",
   "execution_count": 36,
   "metadata": {},
   "outputs": [
    {
     "name": "stdout",
     "output_type": "stream",
     "text": [
      "You have brains in your head. You have feet in your shoes. You can steer yourself any direction you choose.  --Dr. Suess\n"
     ]
    }
   ],
   "source": [
    "s = \"You have brains in your head. \"\n",
    "s += \"You have feet in your shoes. \"\n",
    "s += \"You can steer yourself any direction you choose.  --Dr. Suess\"\n",
    "print(s)"
   ]
  },
  {
   "cell_type": "code",
   "execution_count": 35,
   "metadata": {},
   "outputs": [
    {
     "name": "stdout",
     "output_type": "stream",
     "text": [
      "['You', 'have', 'brains', 'in', 'your', 'head', 'You', 'have', 'feet', 'in', 'your', 'shoes', 'You', 'can', 'steer', 'yourself', 'any', 'direction', 'you', 'choose', 'Dr', 'Suess']\n"
     ]
    }
   ],
   "source": [
    "## match all words\n",
    "print(re.findall('\\w+',s))"
   ]
  },
  {
   "cell_type": "code",
   "execution_count": 37,
   "metadata": {},
   "outputs": [
    {
     "name": "stdout",
     "output_type": "stream",
     "text": [
      "['You']\n"
     ]
    }
   ],
   "source": [
    "## match only the word touching the begining of the line\n",
    "print(re.findall('^\\w+',s))"
   ]
  },
  {
   "cell_type": "code",
   "execution_count": 39,
   "metadata": {},
   "outputs": [
    {
     "name": "stdout",
     "output_type": "stream",
     "text": [
      "['Suess']\n"
     ]
    }
   ],
   "source": [
    "## match the word touching the end of the line\n",
    "print(re.findall('\\w+$',s))"
   ]
  },
  {
   "cell_type": "code",
   "execution_count": 40,
   "metadata": {},
   "outputs": [
    {
     "name": "stdout",
     "output_type": "stream",
     "text": [
      "[' have', ' brains', ' in', ' your', ' head', ' You', ' have', ' feet', ' in', ' your', ' shoes', ' You', ' can', ' steer', ' yourself', ' any', ' direction', ' you', ' choose', ' Suess']\n"
     ]
    }
   ],
   "source": [
    "## match all letters that come after a single whitespace character\n",
    "print(re.findall(' \\w+',s))"
   ]
  },
  {
   "cell_type": "code",
   "execution_count": 49,
   "metadata": {},
   "outputs": [
    {
     "name": "stdout",
     "output_type": "stream",
     "text": [
      "[('you', 'have'), ('you', 'have'), ('you', 'can'), ('you', 'choose')]\n"
     ]
    }
   ],
   "source": [
    "## Can you create a pattern that will match \"you anyword\"?\n",
    "print(re.findall(r'(you) (\\w+)',s.lower()))"
   ]
  },
  {
   "cell_type": "code",
   "execution_count": 53,
   "metadata": {},
   "outputs": [
    {
     "name": "stdout",
     "output_type": "stream",
     "text": [
      "have\n"
     ]
    }
   ],
   "source": [
    "## Show that your previous regular expression gives your access to 'you' and 'anyword'\n",
    "m = re.findall(r'(you) (\\w+)',s.lower())\n",
    "print(m[1][1])\n"
   ]
  },
  {
   "cell_type": "markdown",
   "metadata": {},
   "source": [
    "## Part III - Phone numbers"
   ]
  },
  {
   "cell_type": "code",
   "execution_count": 3,
   "metadata": {
    "collapsed": true
   },
   "outputs": [],
   "source": [
    "text = \"there are so many ways that we see phone numbers.\"  \n",
    "text += \"For example, 777-123-3333 and (123) 438-4435 are common\"\n",
    "text += \"but some countries use 44 45 68 13 23.\"  \n",
    "text += \"It gets even harder with country codes like +11.\""
   ]
  },
  {
   "cell_type": "code",
   "execution_count": 4,
   "metadata": {},
   "outputs": [
    {
     "name": "stdout",
     "output_type": "stream",
     "text": [
      "[('777', '123', '3333'), ('123', '438', '4435')]\n"
     ]
    }
   ],
   "source": [
    "## write a regular expression that extracts all of the full phone numbers\n",
    "print(re.findall('.?(\\d{3}).?.?(\\d{3}).(\\d+)', text))\n",
    "# print(re.findall('( \\d\\d)', text))\n",
    "\n"
   ]
  },
  {
   "cell_type": "code",
   "execution_count": 19,
   "metadata": {
    "collapsed": true
   },
   "outputs": [],
   "source": [
    "## create a dictionary to store numbers where the keys are the area codes"
   ]
  },
  {
   "cell_type": "markdown",
   "metadata": {},
   "source": [
    "## Part IV - Backslashes"
   ]
  },
  {
   "cell_type": "code",
   "execution_count": 24,
   "metadata": {
    "collapsed": true
   },
   "outputs": [],
   "source": [
    "a = r'C://this_is/some directory/'\n",
    "b = r\"/this_is/some\\ directory\"\n",
    "c = r\"./this_is/some\\ other\\ directory/\""
   ]
  },
  {
   "cell_type": "code",
   "execution_count": 23,
   "metadata": {
    "collapsed": true
   },
   "outputs": [],
   "source": [
    "## use a single regular expression to break the strings into an iterable of directories\n",
    "## HINT: just return the two folders in each directory path"
   ]
  },
  {
   "cell_type": "code",
   "execution_count": null,
   "metadata": {
    "collapsed": true
   },
   "outputs": [],
   "source": []
  }
 ],
 "metadata": {
  "kernelspec": {
   "display_name": "Python 3",
   "language": "python",
   "name": "python3"
  },
  "language_info": {
   "codemirror_mode": {
    "name": "ipython",
    "version": 3
   },
   "file_extension": ".py",
   "mimetype": "text/x-python",
   "name": "python",
   "nbconvert_exporter": "python",
   "pygments_lexer": "ipython3",
   "version": "3.6.2"
  }
 },
 "nbformat": 4,
 "nbformat_minor": 2
}
